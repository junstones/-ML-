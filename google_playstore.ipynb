{
 "cells": [
  {
   "cell_type": "code",
   "execution_count": 28,
   "id": "af0f038d",
   "metadata": {},
   "outputs": [],
   "source": [
    "import requests\n",
    "from selenium import webdriver\n",
    "from selenium.webdriver.support.ui import Select\n",
    "import pandas as pd\n",
    "from selenium.webdriver.common.by import By\n",
    "from selenium.webdriver.common.keys import Keys\n",
    "from selenium.webdriver.support.ui import WebDriverWait\n",
    "from selenium.webdriver.support import expected_conditions as EC\n",
    "from selenium.webdriver import ActionChains\n",
    "from bs4 import BeautifulSoup\n",
    "import time"
   ]
  },
  {
   "cell_type": "code",
   "execution_count": 121,
   "id": "27d540ed",
   "metadata": {},
   "outputs": [],
   "source": [
    "url = 'https://play.google.com/store/apps/details?id=com.banhala.android&hl=ko-KR'"
   ]
  },
  {
   "cell_type": "code",
   "execution_count": 122,
   "id": "72ca37f5",
   "metadata": {},
   "outputs": [],
   "source": [
    "driver = webdriver.Chrome(executable_path=driver_path)\n",
    "\n",
    "driver.get(url)"
   ]
  },
  {
   "cell_type": "code",
   "execution_count": 123,
   "id": "82938cdf",
   "metadata": {},
   "outputs": [],
   "source": [
    "driver.execute_script(\"window.scrollTo(0, document.body.scrollHeight);\")"
   ]
  },
  {
   "cell_type": "code",
   "execution_count": 124,
   "id": "24e47a59",
   "metadata": {},
   "outputs": [],
   "source": [
    "spread_review = driver.find_element(by=By.XPATH, value = '//*[@id=\"yDmH0d\"]/c-wiz[2]/div/div/div[1]/div/div[2]/div/div[1]/div[1]/c-wiz[5]/section/div/div[2]/div[5]/div/div/button/span')"
   ]
  },
  {
   "cell_type": "code",
   "execution_count": 126,
   "id": "145c8b43",
   "metadata": {
    "scrolled": true
   },
   "outputs": [],
   "source": [
    "all_reviews = driver.find_element(by=By.XPATH, value = '//*[@id=\"yDmH0d\"]/div[4]/div[2]/div/div/div/div/div[2]')"
   ]
  },
  {
   "cell_type": "code",
   "execution_count": 145,
   "id": "3e7d83a8",
   "metadata": {},
   "outputs": [],
   "source": [
    "for i in range(50):\n",
    "    driver.execute_script('arguments[0].scrollTop = arguments[0].scrollHeight', all_reviews)\n",
    "    time.sleep(1)"
   ]
  },
  {
   "cell_type": "code",
   "execution_count": null,
   "id": "119be2b8",
   "metadata": {
    "scrolled": true
   },
   "outputs": [],
   "source": [
    "data = pd.DataFrame(data=[], columns=['날짜','리뷰','별점'])\n",
    "\n",
    "dates = driver.find_elements(by=By.XPATH, value = '//span[@class=\"bp9Aid\"]')\n",
    "reviews=driver.find_elements(by=By.XPATH, value = '//div[@class=\"h3YV2d\"]')\n",
    "stargrades = driver.find_elements(by=By.XPATH, value = '//div[@class=\"iXRFPc\"]')\n",
    "\n",
    "for i in range(len(reviews)):\n",
    "    tmp = []\n",
    "    tmp.append(dates[i].text)\n",
    "    tmp.append(reviews[i].text)\n",
    "    tmp.append(stargrades[i].get_attribute('aria-label'))\n",
    "\n",
    "    tmp = pd.DataFrame(data=[tmp], columns = data.columns)\n",
    "    data = pd.concat([data,tmp])\n",
    "    \n",
    "data.reset_index(inplace=True, drop=True)\n",
    "data"
   ]
  }
 ],
 "metadata": {
  "kernelspec": {
   "display_name": "Python 3.8.15 ('mlp')",
   "language": "python",
   "name": "python3"
  },
  "language_info": {
   "codemirror_mode": {
    "name": "ipython",
    "version": 3
   },
   "file_extension": ".py",
   "mimetype": "text/x-python",
   "name": "python",
   "nbconvert_exporter": "python",
   "pygments_lexer": "ipython3",
   "version": "3.8.15"
  },
  "vscode": {
   "interpreter": {
    "hash": "436041b31ff14e1104c6dec84275d2e4ca6b982b49ee581adbf55f6385be75b0"
   }
  }
 },
 "nbformat": 4,
 "nbformat_minor": 5
}
