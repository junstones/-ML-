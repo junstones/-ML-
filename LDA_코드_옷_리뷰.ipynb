{
  "nbformat": 4,
  "nbformat_minor": 0,
  "metadata": {
    "colab": {
      "provenance": [],
      "include_colab_link": true
    },
    "kernelspec": {
      "name": "python3",
      "display_name": "Python 3"
    },
    "language_info": {
      "name": "python"
    }
  },
  "cells": [
    {
      "cell_type": "markdown",
      "metadata": {
        "id": "view-in-github",
        "colab_type": "text"
      },
      "source": [
        "<a href=\"https://colab.research.google.com/github/junstones/ML-/blob/main/LDA_%EC%BD%94%EB%93%9C_%EC%98%B7_%EB%A6%AC%EB%B7%B0.ipynb\" target=\"_parent\"><img src=\"https://colab.research.google.com/assets/colab-badge.svg\" alt=\"Open In Colab\"/></a>"
      ]
    },
    {
      "cell_type": "code",
      "execution_count": null,
      "metadata": {
        "colab": {
          "base_uri": "https://localhost:8080/"
        },
        "id": "mD4dUtjeWSuq",
        "outputId": "88093174-7062-46a4-d86b-fae223b08a62"
      },
      "outputs": [
        {
          "output_type": "stream",
          "name": "stdout",
          "text": [
            "Collecting KoNLPy\n",
            "  Downloading konlpy-0.6.0-py2.py3-none-any.whl (19.4 MB)\n",
            "\u001b[2K     \u001b[90m━━━━━━━━━━━━━━━━━━━━━━━━━━━━━━━━━━━━━━━━\u001b[0m \u001b[32m19.4/19.4 MB\u001b[0m \u001b[31m25.9 MB/s\u001b[0m eta \u001b[36m0:00:00\u001b[0m\n",
            "\u001b[?25hCollecting JPype1>=0.7.0 (from KoNLPy)\n",
            "  Downloading JPype1-1.5.0-cp310-cp310-manylinux_2_17_x86_64.manylinux2014_x86_64.whl (488 kB)\n",
            "\u001b[2K     \u001b[90m━━━━━━━━━━━━━━━━━━━━━━━━━━━━━━━━━━━━━━━━\u001b[0m \u001b[32m488.6/488.6 kB\u001b[0m \u001b[31m21.4 MB/s\u001b[0m eta \u001b[36m0:00:00\u001b[0m\n",
            "\u001b[?25hRequirement already satisfied: lxml>=4.1.0 in /usr/local/lib/python3.10/dist-packages (from KoNLPy) (4.9.4)\n",
            "Requirement already satisfied: numpy>=1.6 in /usr/local/lib/python3.10/dist-packages (from KoNLPy) (1.25.2)\n",
            "Requirement already satisfied: packaging in /usr/local/lib/python3.10/dist-packages (from JPype1>=0.7.0->KoNLPy) (24.0)\n",
            "Installing collected packages: JPype1, KoNLPy\n",
            "Successfully installed JPype1-1.5.0 KoNLPy-0.6.0\n"
          ]
        }
      ],
      "source": [
        "pip install KoNLPy"
      ]
    },
    {
      "cell_type": "code",
      "source": [
        "import pandas as pd\n",
        "import numpy as np\n",
        "from tqdm import tqdm # 작업 프로세스 시각화\n",
        "import re # 문자열 처리를 위한 정규표현식 패키지\n",
        "from gensim import corpora # 단어 빈도수 계산 패키지\n",
        "import gensim # LDA 모델 활용 목적\n",
        "from collections import Counter # 단어 등장 횟수 카운트\n",
        "from konlpy.tag import Okt # 형태소 분석기"
      ],
      "metadata": {
        "id": "scCHnK-hWWpW"
      },
      "execution_count": null,
      "outputs": []
    },
    {
      "cell_type": "code",
      "source": [
        "# 데이터 프레임 불러오기\n",
        "df = pd.read_csv('comment_review_hanspell.csv')\n",
        "\n",
        "# 불용어 리스트 불러오기\n",
        "stopword_list = pd.read_excel('stopword_list.xlsx')\n",
        "# 치환할 리스트 불러오기\n",
        "replace_list = pd.read_excel('replace_list.xlsx')\n",
        "# 한 글자인 키워드 리스트 불러오기\n",
        "one_char_keyword = pd.read_excel('one_char_list.xlsx')"
      ],
      "metadata": {
        "id": "AqUnZAtQWZV5"
      },
      "execution_count": null,
      "outputs": []
    },
    {
      "cell_type": "code",
      "source": [
        "# 단어 치환 함수\n",
        "def replace_word(review):\n",
        "    for i in range(len(replace_list['before_replacement'])):\n",
        "        try:\n",
        "            # 치환할 단어가 있는 경우에만 데이터 치환 수행\n",
        "            if replace_list['before_replacement'][i] in review:\n",
        "                review = review.replace(replace_list['before_replacement'][i], replace_list['after_replacement'][i])\n",
        "        except Exception as e:\n",
        "            print(f\"Error 발생 / 에러명: {e}\")\n",
        "    return review\n",
        "\n",
        "# 불용어 제거 함수\n",
        "def remove_stopword(tokens):\n",
        "    review_removed_stopword = []\n",
        "    for token in tokens:\n",
        "        # 토큰의 글자 수가 2글자 이상인 경우\n",
        "        if 1 < len(token):\n",
        "            # 토큰이 불용어가 아닌 경우만 분석용 리뷰 데이터로 포함\n",
        "            if token not in list(stopword_list['stopword']):\n",
        "                review_removed_stopword.append(token)\n",
        "        # 토큰의 글자 수가 1글자인 경우\n",
        "        else:\n",
        "            # 1글자 키워드에 포함되는 경우만 분석용 리뷰 데이터로 포함\n",
        "            if token in list(one_char_keyword['one_char_keyword']):\n",
        "                review_removed_stopword.append(token)\n",
        "    return review_removed_stopword"
      ],
      "metadata": {
        "id": "JXGwnR8lWmU2"
      },
      "execution_count": null,
      "outputs": []
    },
    {
      "cell_type": "code",
      "source": [
        "# 단어 치환\n",
        "df['review_prep'] = ''\n",
        "review_replaced_list = []\n",
        "for review in tqdm(df['comment_review_hanspell']):\n",
        "    review_replaced = replace_word(str(review)) # 문자열 데이터 변환\n",
        "    review_replaced_list.append(review_replaced)\n",
        "df['review_prep'] = review_replaced_list\n",
        "\n",
        "# 한글 외 텍스트 제거\n",
        "review_removed = list(map(lambda review: re.sub('[^가-힣 ]', '', review), df['review_prep']))\n",
        "df['review_prep'] = review_removed\n",
        "\n",
        "# morphs 기반 토큰화\n",
        "df_tokenized = list(map(lambda review: Okt().morphs(review,norm=True, stem=True), df['review_prep']))\n",
        "\n",
        "# 불용어\n",
        "df_removed_stopword = list(map(lambda tokens : remove_stopword(tokens), df_tokenized))"
      ],
      "metadata": {
        "colab": {
          "base_uri": "https://localhost:8080/"
        },
        "id": "5pzidQA9XcR0",
        "outputId": "a5b628a9-4d40-4fce-c011-0534a15c9144"
      },
      "execution_count": null,
      "outputs": [
        {
          "output_type": "stream",
          "name": "stderr",
          "text": [
            "100%|██████████| 20226/20226 [00:51<00:00, 395.12it/s]\n"
          ]
        }
      ]
    },
    {
      "cell_type": "code",
      "source": [
        "len(df_removed_stopword)"
      ],
      "metadata": {
        "colab": {
          "base_uri": "https://localhost:8080/"
        },
        "id": "sORDZ-_pzPBL",
        "outputId": "1b38b3fd-e866-49f2-e786-59b061417f38"
      },
      "execution_count": null,
      "outputs": [
        {
          "output_type": "execute_result",
          "data": {
            "text/plain": [
              "20226"
            ]
          },
          "metadata": {},
          "execution_count": 14
        }
      ]
    },
    {
      "cell_type": "code",
      "source": [
        "# Gensim의 Dictionary 객체 생성\n",
        "dictionary = corpora.Dictionary(df_removed_stopword)\n",
        "list(dictionary.token2id.items())[:10]"
      ],
      "metadata": {
        "colab": {
          "base_uri": "https://localhost:8080/"
        },
        "id": "2EqvwhDOz5W8",
        "outputId": "c2e1f256-6599-4e50-ee92-8598698eaf78"
      },
      "execution_count": null,
      "outputs": [
        {
          "output_type": "execute_result",
          "data": {
            "text/plain": [
              "[('가격', 0),\n",
              " ('배송', 1),\n",
              " ('빨르다', 2),\n",
              " ('삼박자', 3),\n",
              " ('색감', 4),\n",
              " ('어우러지다', 5),\n",
              " ('자다', 6),\n",
              " ('좋다', 7),\n",
              " ('하모니', 8),\n",
              " ('합리', 9)]"
            ]
          },
          "metadata": {},
          "execution_count": 15
        }
      ]
    },
    {
      "cell_type": "code",
      "source": [
        "# 문서-단어 행렬을 생성\n",
        "corpus = [dictionary.doc2bow(text) for text in df_removed_stopword]"
      ],
      "metadata": {
        "id": "HnhKRrD70SRx"
      },
      "execution_count": null,
      "outputs": []
    },
    {
      "cell_type": "code",
      "source": [
        "# 첫 번째 문장의 DTM\n",
        "corpus[0]"
      ],
      "metadata": {
        "colab": {
          "base_uri": "https://localhost:8080/"
        },
        "id": "w4b0CUN-0u5u",
        "outputId": "c34e1019-6777-4452-efa6-eabd32a38b4b"
      },
      "execution_count": null,
      "outputs": [
        {
          "output_type": "execute_result",
          "data": {
            "text/plain": [
              "[(0, 1),\n",
              " (1, 1),\n",
              " (2, 1),\n",
              " (3, 1),\n",
              " (4, 1),\n",
              " (5, 1),\n",
              " (6, 1),\n",
              " (7, 1),\n",
              " (8, 1),\n",
              " (9, 1)]"
            ]
          },
          "metadata": {},
          "execution_count": 17
        }
      ]
    },
    {
      "cell_type": "code",
      "source": [
        "# LDA 적용\n",
        "from gensim.models import ldamodel\n",
        "\n",
        "topicK = 7 # 토픽 7개로 설정\n",
        "num_trains = 10 # 훈련 횟수\n",
        "\n",
        "lda_model = ldamodel.LdaModel(corpus,\n",
        "                              num_topics=topicK, # 선정한 토픽 수\n",
        "                              id2word=dictionary,\n",
        "                              passes=num_trains, # 학습 횟수\n",
        "                              random_state=42) # seed값 고정"
      ],
      "metadata": {
        "id": "WlxKP5IV1XEi"
      },
      "execution_count": null,
      "outputs": []
    },
    {
      "cell_type": "markdown",
      "source": [],
      "metadata": {
        "id": "xP7e5qfbDxXK"
      }
    },
    {
      "cell_type": "code",
      "source": [
        "# 토픽 별 단어 분포 확인\n",
        "for k in range(topicK):\n",
        "    print(lda_model.show_topic(k, topn=10)) # 토픽 하나당 10개씩 확인"
      ],
      "metadata": {
        "colab": {
          "base_uri": "https://localhost:8080/"
        },
        "id": "pRGFK85Z2Bee",
        "outputId": "6fca806e-08a2-4793-b1ea-b83b1d1dee58"
      },
      "execution_count": null,
      "outputs": [
        {
          "output_type": "stream",
          "name": "stdout",
          "text": [
            "[('마음', 0.11897718), ('들다', 0.088202946), ('디자인', 0.030442093), ('색상', 0.029827816), ('예쁘다', 0.028243955), ('없다', 0.025406512), ('듭니', 0.024206124), ('세탁', 0.023997815), ('좋다', 0.022528306), ('핏', 0.022143066)]\n",
            "[('좋다', 0.112825036), ('구매', 0.07017041), ('가격', 0.06952434), ('이쁘다', 0.031037536), ('물건', 0.02822376), ('만족하다', 0.020074371), ('추천', 0.02006997), ('싶다', 0.018847197), ('자다', 0.018788395), ('퀄리티', 0.017619088)]\n",
            "[('좋다', 0.06598533), ('입다', 0.049739316), ('사다', 0.04470248), ('구매', 0.042154483), ('기본', 0.033880115), ('자다', 0.027564876), ('역시', 0.025809806), ('살다', 0.020417338), ('싸다', 0.019479597), ('가성', 0.019470593)]\n",
            "[('사이즈', 0.09821913), ('입다', 0.08072671), ('좋다', 0.06274252), ('자다', 0.05496782), ('맞다', 0.042659983), ('이쁘다', 0.041665066), ('편하다', 0.032524485), ('예쁘다', 0.029722081), ('핏', 0.029016174), ('크다', 0.024065617)]\n",
            "[('배송', 0.13316317), ('빠르다', 0.06704612), ('좋다', 0.06448104), ('옷', 0.03678585), ('자다', 0.036589846), ('오다', 0.035610136), ('이쁘다', 0.034095544), ('디자인', 0.02196902), ('라서', 0.021330781), ('빨르다', 0.020762967)]\n",
            "[('좋다', 0.13146456), ('입다', 0.118644096), ('두께', 0.03488413), ('무난', 0.034646302), ('얇다', 0.027059034), ('않다', 0.025724843), ('적당하다', 0.024479015), ('두껍다', 0.020073282), ('자다', 0.018557588), ('봄', 0.018248824)]\n",
            "[('건지다', 0.030121556), ('좋다', 0.029799225), ('않다', 0.029199775), ('핏', 0.029104896), ('옷', 0.028294083), ('예쁘다', 0.027368158), ('니트', 0.024825206), ('이쁘다', 0.024778472), ('부드럽다', 0.022934277), ('탄탄하다', 0.01996605)]\n"
          ]
        }
      ]
    },
    {
      "cell_type": "code",
      "source": [
        "len(corpus)"
      ],
      "metadata": {
        "colab": {
          "base_uri": "https://localhost:8080/"
        },
        "id": "qGexumakLAgC",
        "outputId": "132d2531-3334-4ccf-f391-440d8274b6ab"
      },
      "execution_count": null,
      "outputs": [
        {
          "output_type": "execute_result",
          "data": {
            "text/plain": [
              "20226"
            ]
          },
          "metadata": {},
          "execution_count": 40
        }
      ]
    },
    {
      "cell_type": "code",
      "source": [
        "# 매 리뷰 마다 어떤 토픽에 속해있는지에 대한 데이터가 담긴 리스트 만들기\n",
        "target_topics = []\n",
        "for i in range(len(corpus)):\n",
        "  list = []\n",
        "  for topic_idx, prob in lda_model[corpus[i]]:\n",
        "    list.append(prob)\n",
        "    max_number = max(list)\n",
        "  target_topic = list.index(max_number)\n",
        "  target_topics.append(target_topic)"
      ],
      "metadata": {
        "id": "rW52k0sxKZHk"
      },
      "execution_count": null,
      "outputs": []
    },
    {
      "cell_type": "code",
      "source": [
        "len(target_topics)"
      ],
      "metadata": {
        "id": "xmcKptLsMWNu",
        "colab": {
          "base_uri": "https://localhost:8080/"
        },
        "outputId": "5c91b2f0-cfab-4f55-f72c-cea5b1a97f22"
      },
      "execution_count": null,
      "outputs": [
        {
          "output_type": "execute_result",
          "data": {
            "text/plain": [
              "20226"
            ]
          },
          "metadata": {},
          "execution_count": 42
        }
      ]
    },
    {
      "cell_type": "code",
      "source": [
        "# 분포 확인\n",
        "series = pd.Series(target_topics)\n",
        "series.value_counts()"
      ],
      "metadata": {
        "id": "ALPy04rNMlec",
        "colab": {
          "base_uri": "https://localhost:8080/"
        },
        "outputId": "c93877e2-4c09-4a9a-92f4-880879a66367"
      },
      "execution_count": null,
      "outputs": [
        {
          "output_type": "execute_result",
          "data": {
            "text/plain": [
              "3    5155\n",
              "1    3517\n",
              "5    3321\n",
              "2    2467\n",
              "0    2104\n",
              "4    1910\n",
              "6    1752\n",
              "dtype: int64"
            ]
          },
          "metadata": {},
          "execution_count": 43
        }
      ]
    },
    {
      "cell_type": "code",
      "source": [
        "df['Topic'] = series\n",
        "df.head(10)"
      ],
      "metadata": {
        "id": "Ss8ri5YTOvk8",
        "colab": {
          "base_uri": "https://localhost:8080/",
          "height": 363
        },
        "outputId": "83fc1fa3-7487-4063-a82c-fe4b297d252e"
      },
      "execution_count": null,
      "outputs": [
        {
          "output_type": "execute_result",
          "data": {
            "text/plain": [
              "                                      comment_review  \\\n",
              "0   색감도 좋고 가격도 합리적이고 배송도 빨랐네요.\\n 삼박자의 하모니가 잘 어우러졌습니다   \n",
              "1                    세일할때 사서 싸게 구매했어요 귀엽고 잘 입을 것 같아영   \n",
              "2  타임세일로 저렴하게 구매했어요!\\n 우선 엄청얇은 니트입니다 탄탄한니트절태아니고 흐...   \n",
              "3                  촉감도 부들부들하고 배송도 빠르고 실제로 보니 색상도 예뻐용   \n",
              "4  s 사려다가 그 사이에 품절돼서 m 샀는데 완전 마음에 들어요 안에 옷 껴입기에 품...   \n",
              "5                     저렴한 가격으로 잘 산 것 같습니다 배송 빨라서 좋아요   \n",
              "6  무난하게 잘 입고 다닐 수 있을 것 같아여. 지퍼가 약간 빡빡 하지만 저렴하게 구매...   \n",
              "7  주머니 없는게 아쉽긴한데 색감도 좋고 너무 마음에\\n 들어요 저렴한 가격에 잘 구매...   \n",
              "8  옷 두께는 살짝 얇고 재질은 부드럽지는 않아요!\\n 처음엔 살짝 공장 냄새가 나는 ...   \n",
              "9  옷 무겁지않아서 좋고 초여름 초가을에도 입을수있을듯\\n 색감 밝은편이라 좋네요\\n ...   \n",
              "\n",
              "                             comment_review_hanspell  \\\n",
              "0     색감도 좋고 가격도 합리적이고 배송도 빨랐네요. 삼박자의 하모니가 잘 어우러졌습니다   \n",
              "1                   세일할 때 사서 싸게 구매했어요 귀엽고 잘 입을 것 같아요   \n",
              "2  타임 세일로 저렴하게 구매했어요! 우선 엄청 얇은 니트입니다 탄탄한 니트 절대 아니...   \n",
              "3                  촉감도 부들부들하고 배송도 빠르고 실제로 보니 색상도 예뻐요   \n",
              "4  s 사려다가 그 사이에 품절돼서 m 샀는데 완전 마음에 들어요 안에 옷 껴입기에 품...   \n",
              "5                     저렴한 가격으로 잘 산 것 같습니다 배송 빨라서 좋아요   \n",
              "6  무난하게 잘 입고 다닐 수 있을 것 같아요. 지퍼가 약간 빡빡하지만 저렴하게 구매했...   \n",
              "7  주머니 없는 게 아쉽긴 한데 색감도 좋고 너무 마음에 들어요 저렴한 가격에 잘 구매...   \n",
              "8  옷 두께는 살짝 얇고 재질은 부드럽지는 않아요! 처음엔 살짝 공장 냄새가 나는 것 ...   \n",
              "9  옷 무겁지 않아서 좋고 초여름 초가을에도 입을 수 있을 듯 색감 밝은 편이라 좋네요...   \n",
              "\n",
              "                                         review_prep  Topic  \n",
              "0      색감도 좋고 가격도 합리적이고 배송도 빨랐네요 삼박자의 하모니가 잘 어우러졌습니다      1  \n",
              "1                   세일할 때 사서 싸게 구매했어요 귀엽고 잘 입을 것 같아요      2  \n",
              "2  타임 세일로 저렴하게 구매했어요 우선 엄청 얇은 니트입니다 탄탄한 니트 절대 아니고...      3  \n",
              "3                  촉감도 부들부들하고 배송도 빠르고 실제로 보니 색상도 예뻐요      4  \n",
              "4   사려다가 그 사이에 품절돼서  샀는데 완전 마음에 들어요 안에 옷 껴입기에 품 적...      0  \n",
              "5                     저렴한 가격으로 잘 산 것 같습니다 배송 빨라서 좋아요      4  \n",
              "6  무난하게 잘 입고 다닐 수 있을 것 같아요 지퍼가 약간 빡빡하지만 저렴하게 구매했으...      5  \n",
              "7  주머니 없는 게 아쉽긴 한데 색감도 좋고 너무 마음에 들어요 저렴한 가격에 잘 구매...      1  \n",
              "8  옷 두께는 살짝 얇고 재질은 부드럽지는 않아요 처음엔 살짝 공장 냄새가 나는 것 같...      5  \n",
              "9  옷 무겁지 않아서 좋고 초여름 초가을에도 입을 수 있을 듯 색감 밝은 편이라 좋네요...      1  "
            ],
            "text/html": [
              "\n",
              "  <div id=\"df-ec21b5c9-a987-4bd2-b302-28fe98ddb5be\" class=\"colab-df-container\">\n",
              "    <div>\n",
              "<style scoped>\n",
              "    .dataframe tbody tr th:only-of-type {\n",
              "        vertical-align: middle;\n",
              "    }\n",
              "\n",
              "    .dataframe tbody tr th {\n",
              "        vertical-align: top;\n",
              "    }\n",
              "\n",
              "    .dataframe thead th {\n",
              "        text-align: right;\n",
              "    }\n",
              "</style>\n",
              "<table border=\"1\" class=\"dataframe\">\n",
              "  <thead>\n",
              "    <tr style=\"text-align: right;\">\n",
              "      <th></th>\n",
              "      <th>comment_review</th>\n",
              "      <th>comment_review_hanspell</th>\n",
              "      <th>review_prep</th>\n",
              "      <th>Topic</th>\n",
              "    </tr>\n",
              "  </thead>\n",
              "  <tbody>\n",
              "    <tr>\n",
              "      <th>0</th>\n",
              "      <td>색감도 좋고 가격도 합리적이고 배송도 빨랐네요.\\n 삼박자의 하모니가 잘 어우러졌습니다</td>\n",
              "      <td>색감도 좋고 가격도 합리적이고 배송도 빨랐네요. 삼박자의 하모니가 잘 어우러졌습니다</td>\n",
              "      <td>색감도 좋고 가격도 합리적이고 배송도 빨랐네요 삼박자의 하모니가 잘 어우러졌습니다</td>\n",
              "      <td>1</td>\n",
              "    </tr>\n",
              "    <tr>\n",
              "      <th>1</th>\n",
              "      <td>세일할때 사서 싸게 구매했어요 귀엽고 잘 입을 것 같아영</td>\n",
              "      <td>세일할 때 사서 싸게 구매했어요 귀엽고 잘 입을 것 같아요</td>\n",
              "      <td>세일할 때 사서 싸게 구매했어요 귀엽고 잘 입을 것 같아요</td>\n",
              "      <td>2</td>\n",
              "    </tr>\n",
              "    <tr>\n",
              "      <th>2</th>\n",
              "      <td>타임세일로 저렴하게 구매했어요!\\n 우선 엄청얇은 니트입니다 탄탄한니트절태아니고 흐...</td>\n",
              "      <td>타임 세일로 저렴하게 구매했어요! 우선 엄청 얇은 니트입니다 탄탄한 니트 절대 아니...</td>\n",
              "      <td>타임 세일로 저렴하게 구매했어요 우선 엄청 얇은 니트입니다 탄탄한 니트 절대 아니고...</td>\n",
              "      <td>3</td>\n",
              "    </tr>\n",
              "    <tr>\n",
              "      <th>3</th>\n",
              "      <td>촉감도 부들부들하고 배송도 빠르고 실제로 보니 색상도 예뻐용</td>\n",
              "      <td>촉감도 부들부들하고 배송도 빠르고 실제로 보니 색상도 예뻐요</td>\n",
              "      <td>촉감도 부들부들하고 배송도 빠르고 실제로 보니 색상도 예뻐요</td>\n",
              "      <td>4</td>\n",
              "    </tr>\n",
              "    <tr>\n",
              "      <th>4</th>\n",
              "      <td>s 사려다가 그 사이에 품절돼서 m 샀는데 완전 마음에 들어요 안에 옷 껴입기에 품...</td>\n",
              "      <td>s 사려다가 그 사이에 품절돼서 m 샀는데 완전 마음에 들어요 안에 옷 껴입기에 품...</td>\n",
              "      <td>사려다가 그 사이에 품절돼서  샀는데 완전 마음에 들어요 안에 옷 껴입기에 품 적...</td>\n",
              "      <td>0</td>\n",
              "    </tr>\n",
              "    <tr>\n",
              "      <th>5</th>\n",
              "      <td>저렴한 가격으로 잘 산 것 같습니다 배송 빨라서 좋아요</td>\n",
              "      <td>저렴한 가격으로 잘 산 것 같습니다 배송 빨라서 좋아요</td>\n",
              "      <td>저렴한 가격으로 잘 산 것 같습니다 배송 빨라서 좋아요</td>\n",
              "      <td>4</td>\n",
              "    </tr>\n",
              "    <tr>\n",
              "      <th>6</th>\n",
              "      <td>무난하게 잘 입고 다닐 수 있을 것 같아여. 지퍼가 약간 빡빡 하지만 저렴하게 구매...</td>\n",
              "      <td>무난하게 잘 입고 다닐 수 있을 것 같아요. 지퍼가 약간 빡빡하지만 저렴하게 구매했...</td>\n",
              "      <td>무난하게 잘 입고 다닐 수 있을 것 같아요 지퍼가 약간 빡빡하지만 저렴하게 구매했으...</td>\n",
              "      <td>5</td>\n",
              "    </tr>\n",
              "    <tr>\n",
              "      <th>7</th>\n",
              "      <td>주머니 없는게 아쉽긴한데 색감도 좋고 너무 마음에\\n 들어요 저렴한 가격에 잘 구매...</td>\n",
              "      <td>주머니 없는 게 아쉽긴 한데 색감도 좋고 너무 마음에 들어요 저렴한 가격에 잘 구매...</td>\n",
              "      <td>주머니 없는 게 아쉽긴 한데 색감도 좋고 너무 마음에 들어요 저렴한 가격에 잘 구매...</td>\n",
              "      <td>1</td>\n",
              "    </tr>\n",
              "    <tr>\n",
              "      <th>8</th>\n",
              "      <td>옷 두께는 살짝 얇고 재질은 부드럽지는 않아요!\\n 처음엔 살짝 공장 냄새가 나는 ...</td>\n",
              "      <td>옷 두께는 살짝 얇고 재질은 부드럽지는 않아요! 처음엔 살짝 공장 냄새가 나는 것 ...</td>\n",
              "      <td>옷 두께는 살짝 얇고 재질은 부드럽지는 않아요 처음엔 살짝 공장 냄새가 나는 것 같...</td>\n",
              "      <td>5</td>\n",
              "    </tr>\n",
              "    <tr>\n",
              "      <th>9</th>\n",
              "      <td>옷 무겁지않아서 좋고 초여름 초가을에도 입을수있을듯\\n 색감 밝은편이라 좋네요\\n ...</td>\n",
              "      <td>옷 무겁지 않아서 좋고 초여름 초가을에도 입을 수 있을 듯 색감 밝은 편이라 좋네요...</td>\n",
              "      <td>옷 무겁지 않아서 좋고 초여름 초가을에도 입을 수 있을 듯 색감 밝은 편이라 좋네요...</td>\n",
              "      <td>1</td>\n",
              "    </tr>\n",
              "  </tbody>\n",
              "</table>\n",
              "</div>\n",
              "    <div class=\"colab-df-buttons\">\n",
              "\n",
              "  <div class=\"colab-df-container\">\n",
              "    <button class=\"colab-df-convert\" onclick=\"convertToInteractive('df-ec21b5c9-a987-4bd2-b302-28fe98ddb5be')\"\n",
              "            title=\"Convert this dataframe to an interactive table.\"\n",
              "            style=\"display:none;\">\n",
              "\n",
              "  <svg xmlns=\"http://www.w3.org/2000/svg\" height=\"24px\" viewBox=\"0 -960 960 960\">\n",
              "    <path d=\"M120-120v-720h720v720H120Zm60-500h600v-160H180v160Zm220 220h160v-160H400v160Zm0 220h160v-160H400v160ZM180-400h160v-160H180v160Zm440 0h160v-160H620v160ZM180-180h160v-160H180v160Zm440 0h160v-160H620v160Z\"/>\n",
              "  </svg>\n",
              "    </button>\n",
              "\n",
              "  <style>\n",
              "    .colab-df-container {\n",
              "      display:flex;\n",
              "      gap: 12px;\n",
              "    }\n",
              "\n",
              "    .colab-df-convert {\n",
              "      background-color: #E8F0FE;\n",
              "      border: none;\n",
              "      border-radius: 50%;\n",
              "      cursor: pointer;\n",
              "      display: none;\n",
              "      fill: #1967D2;\n",
              "      height: 32px;\n",
              "      padding: 0 0 0 0;\n",
              "      width: 32px;\n",
              "    }\n",
              "\n",
              "    .colab-df-convert:hover {\n",
              "      background-color: #E2EBFA;\n",
              "      box-shadow: 0px 1px 2px rgba(60, 64, 67, 0.3), 0px 1px 3px 1px rgba(60, 64, 67, 0.15);\n",
              "      fill: #174EA6;\n",
              "    }\n",
              "\n",
              "    .colab-df-buttons div {\n",
              "      margin-bottom: 4px;\n",
              "    }\n",
              "\n",
              "    [theme=dark] .colab-df-convert {\n",
              "      background-color: #3B4455;\n",
              "      fill: #D2E3FC;\n",
              "    }\n",
              "\n",
              "    [theme=dark] .colab-df-convert:hover {\n",
              "      background-color: #434B5C;\n",
              "      box-shadow: 0px 1px 3px 1px rgba(0, 0, 0, 0.15);\n",
              "      filter: drop-shadow(0px 1px 2px rgba(0, 0, 0, 0.3));\n",
              "      fill: #FFFFFF;\n",
              "    }\n",
              "  </style>\n",
              "\n",
              "    <script>\n",
              "      const buttonEl =\n",
              "        document.querySelector('#df-ec21b5c9-a987-4bd2-b302-28fe98ddb5be button.colab-df-convert');\n",
              "      buttonEl.style.display =\n",
              "        google.colab.kernel.accessAllowed ? 'block' : 'none';\n",
              "\n",
              "      async function convertToInteractive(key) {\n",
              "        const element = document.querySelector('#df-ec21b5c9-a987-4bd2-b302-28fe98ddb5be');\n",
              "        const dataTable =\n",
              "          await google.colab.kernel.invokeFunction('convertToInteractive',\n",
              "                                                    [key], {});\n",
              "        if (!dataTable) return;\n",
              "\n",
              "        const docLinkHtml = 'Like what you see? Visit the ' +\n",
              "          '<a target=\"_blank\" href=https://colab.research.google.com/notebooks/data_table.ipynb>data table notebook</a>'\n",
              "          + ' to learn more about interactive tables.';\n",
              "        element.innerHTML = '';\n",
              "        dataTable['output_type'] = 'display_data';\n",
              "        await google.colab.output.renderOutput(dataTable, element);\n",
              "        const docLink = document.createElement('div');\n",
              "        docLink.innerHTML = docLinkHtml;\n",
              "        element.appendChild(docLink);\n",
              "      }\n",
              "    </script>\n",
              "  </div>\n",
              "\n",
              "\n",
              "<div id=\"df-c50c9a67-2c19-4116-abfc-868a47128ab8\">\n",
              "  <button class=\"colab-df-quickchart\" onclick=\"quickchart('df-c50c9a67-2c19-4116-abfc-868a47128ab8')\"\n",
              "            title=\"Suggest charts\"\n",
              "            style=\"display:none;\">\n",
              "\n",
              "<svg xmlns=\"http://www.w3.org/2000/svg\" height=\"24px\"viewBox=\"0 0 24 24\"\n",
              "     width=\"24px\">\n",
              "    <g>\n",
              "        <path d=\"M19 3H5c-1.1 0-2 .9-2 2v14c0 1.1.9 2 2 2h14c1.1 0 2-.9 2-2V5c0-1.1-.9-2-2-2zM9 17H7v-7h2v7zm4 0h-2V7h2v10zm4 0h-2v-4h2v4z\"/>\n",
              "    </g>\n",
              "</svg>\n",
              "  </button>\n",
              "\n",
              "<style>\n",
              "  .colab-df-quickchart {\n",
              "      --bg-color: #E8F0FE;\n",
              "      --fill-color: #1967D2;\n",
              "      --hover-bg-color: #E2EBFA;\n",
              "      --hover-fill-color: #174EA6;\n",
              "      --disabled-fill-color: #AAA;\n",
              "      --disabled-bg-color: #DDD;\n",
              "  }\n",
              "\n",
              "  [theme=dark] .colab-df-quickchart {\n",
              "      --bg-color: #3B4455;\n",
              "      --fill-color: #D2E3FC;\n",
              "      --hover-bg-color: #434B5C;\n",
              "      --hover-fill-color: #FFFFFF;\n",
              "      --disabled-bg-color: #3B4455;\n",
              "      --disabled-fill-color: #666;\n",
              "  }\n",
              "\n",
              "  .colab-df-quickchart {\n",
              "    background-color: var(--bg-color);\n",
              "    border: none;\n",
              "    border-radius: 50%;\n",
              "    cursor: pointer;\n",
              "    display: none;\n",
              "    fill: var(--fill-color);\n",
              "    height: 32px;\n",
              "    padding: 0;\n",
              "    width: 32px;\n",
              "  }\n",
              "\n",
              "  .colab-df-quickchart:hover {\n",
              "    background-color: var(--hover-bg-color);\n",
              "    box-shadow: 0 1px 2px rgba(60, 64, 67, 0.3), 0 1px 3px 1px rgba(60, 64, 67, 0.15);\n",
              "    fill: var(--button-hover-fill-color);\n",
              "  }\n",
              "\n",
              "  .colab-df-quickchart-complete:disabled,\n",
              "  .colab-df-quickchart-complete:disabled:hover {\n",
              "    background-color: var(--disabled-bg-color);\n",
              "    fill: var(--disabled-fill-color);\n",
              "    box-shadow: none;\n",
              "  }\n",
              "\n",
              "  .colab-df-spinner {\n",
              "    border: 2px solid var(--fill-color);\n",
              "    border-color: transparent;\n",
              "    border-bottom-color: var(--fill-color);\n",
              "    animation:\n",
              "      spin 1s steps(1) infinite;\n",
              "  }\n",
              "\n",
              "  @keyframes spin {\n",
              "    0% {\n",
              "      border-color: transparent;\n",
              "      border-bottom-color: var(--fill-color);\n",
              "      border-left-color: var(--fill-color);\n",
              "    }\n",
              "    20% {\n",
              "      border-color: transparent;\n",
              "      border-left-color: var(--fill-color);\n",
              "      border-top-color: var(--fill-color);\n",
              "    }\n",
              "    30% {\n",
              "      border-color: transparent;\n",
              "      border-left-color: var(--fill-color);\n",
              "      border-top-color: var(--fill-color);\n",
              "      border-right-color: var(--fill-color);\n",
              "    }\n",
              "    40% {\n",
              "      border-color: transparent;\n",
              "      border-right-color: var(--fill-color);\n",
              "      border-top-color: var(--fill-color);\n",
              "    }\n",
              "    60% {\n",
              "      border-color: transparent;\n",
              "      border-right-color: var(--fill-color);\n",
              "    }\n",
              "    80% {\n",
              "      border-color: transparent;\n",
              "      border-right-color: var(--fill-color);\n",
              "      border-bottom-color: var(--fill-color);\n",
              "    }\n",
              "    90% {\n",
              "      border-color: transparent;\n",
              "      border-bottom-color: var(--fill-color);\n",
              "    }\n",
              "  }\n",
              "</style>\n",
              "\n",
              "  <script>\n",
              "    async function quickchart(key) {\n",
              "      const quickchartButtonEl =\n",
              "        document.querySelector('#' + key + ' button');\n",
              "      quickchartButtonEl.disabled = true;  // To prevent multiple clicks.\n",
              "      quickchartButtonEl.classList.add('colab-df-spinner');\n",
              "      try {\n",
              "        const charts = await google.colab.kernel.invokeFunction(\n",
              "            'suggestCharts', [key], {});\n",
              "      } catch (error) {\n",
              "        console.error('Error during call to suggestCharts:', error);\n",
              "      }\n",
              "      quickchartButtonEl.classList.remove('colab-df-spinner');\n",
              "      quickchartButtonEl.classList.add('colab-df-quickchart-complete');\n",
              "    }\n",
              "    (() => {\n",
              "      let quickchartButtonEl =\n",
              "        document.querySelector('#df-c50c9a67-2c19-4116-abfc-868a47128ab8 button');\n",
              "      quickchartButtonEl.style.display =\n",
              "        google.colab.kernel.accessAllowed ? 'block' : 'none';\n",
              "    })();\n",
              "  </script>\n",
              "</div>\n",
              "\n",
              "    </div>\n",
              "  </div>\n"
            ],
            "application/vnd.google.colaboratory.intrinsic+json": {
              "type": "dataframe",
              "variable_name": "df",
              "summary": "{\n  \"name\": \"df\",\n  \"rows\": 20226,\n  \"fields\": [\n    {\n      \"column\": \"comment_review\",\n      \"properties\": {\n        \"dtype\": \"string\",\n        \"num_unique_values\": 19528,\n        \"samples\": [\n          \"\\ub108\\ubb34 \\uc608\\uc058\\ub124\\uc694 \\ub2f4\\ub124 \\ub610 \\uc0b4\\uac8c\\uc694 \\uac10\\uc0ac\\ud569\\ub2c8\\ub2e4 \\uac10\\uc0ac\\ud574\\uc694\",\n          \"\\uc815\\uc0ac\\uc774\\uc988 \\uc0c0\\ub294\\ub370 \\uc0dd\\uac01\\ud588\\ub358\\uac70\\ubcf4\\ub2e4 \\ub354 \\uc774\\uc058\\uace0 \\uc798 \\ub9de\\uc74c \\ub2e4\\ub978 \\uc0c9 \\uc8fc\\ubb38\\ud560\\uac70\\uc784 \\ub300\\ub9cc\\uc871\",\n          \"\\uc0ac\\uc774\\uc988 \\uc2e4\\uce21 \\ubcf4\\uace0 \\uc0c0\\ub294\\ub370 \\uc0dd\\uac01\\ubcf4\\ub2e4 \\uc0b4\\uc9dd \\ud070 \\ub290\\ub08c\\uc774\\uc5d0\\uc694\\n \\uc7ac\\uc9c8\\uc88b\\uace0 \\uc774\\ub108\\ub85c \\uc800\\ub834\\ud558\\uac8c \\uc785\\uc744 \\uc218 \\uc788\\uc5b4\\uc11c \\uc88b\\uc544\\uc6a9\"\n        ],\n        \"semantic_type\": \"\",\n        \"description\": \"\"\n      }\n    },\n    {\n      \"column\": \"comment_review_hanspell\",\n      \"properties\": {\n        \"dtype\": \"string\",\n        \"num_unique_values\": 19517,\n        \"samples\": [\n          \"\\ub9e8\\ud22c\\ub9e8 \\ud2f0 \\ubcf4\\ub2e4\\uac00 \\ub514\\uc790\\uc778\\uc774 \\uc774\\ubed0\\uc11c \\uad6c\\ub9e4\\ud574\\uc694 \\uc88b\\ub124\\uc694\",\n          \"\\uc0dd\\uac01\\ubcf4\\ub2e4 \\uae38\\uc5b4\\uc694 155\\uae30\\uc900 \\uc5c9\\ub369\\uc774 \\uac70\\uc758 \\ub36e\\uc2b5\\ub2c8\\ub2e4 \\uaca8\\uc6b8\\uc5d0\\ub294 \\uc548\\uc5d0 \\ud2f0 \\ub808\\uc774\\uc5b4 \\ud574\\uc11c \\uc785\\uc73c\\uba74 \\ub530\\ub73b\\ud55c \\uac70 \\uac19\\uc544\\uc694 \\ud22d \\ub5a8\\uc5b4\\uc9c0\\ub294 \\ud54f\\uc774\\ub77c \\uc640\\uc774\\ub4dc \\ud32c\\uce20\\ub791 \\uc785\\uc73c\\uba74 \\ub108\\ubb34 \\uc774\\ubed0 \\uc735 \\uc9dc\\uc784\\ub3c4 \\ud0c4\\ud0c4\\ud574\\uc11c \\uc27d\\uac8c \\ub298\\uc5b4\\ub098\\uac70\\ub098 \\ubcf4\\ud480\\uc774 \\uc27d\\uac8c \\uc0dd\\uae30\\ub294 \\uac70 \\uc544\\ub2d0 \\uac70 \\uac19\\uc544\\uc694\",\n          \"\\uac00\\uaca9 \\ub300\\ube44 \\uad1c\\ucc2e\\uace0 \\ud54f\\uc774\\ub098 \\uc18c\\uc7ac\\ub3c4 \\uad1c\\ucc2e\\uc740 \\uac70 \\uac19\\uc544\\uc694\"\n        ],\n        \"semantic_type\": \"\",\n        \"description\": \"\"\n      }\n    },\n    {\n      \"column\": \"review_prep\",\n      \"properties\": {\n        \"dtype\": \"string\",\n        \"num_unique_values\": 19500,\n        \"samples\": [\n          \"\\ud560\\uc778\\ub41c \\uac00\\uaca9\\uc5d0 \\ub108\\ubb34 \\uc798 \\uc0b0 \\uac70 \\uac19\\uc544\\uc694 \\ub2e4\\ub978 \\uc0c9\\ub3c4 \\uad6c\\ub9e4\\ud560\\uc384\\uc694\",\n          \"\\ub531 \\uae30\\ubcf8\\uc73c\\ub85c \\uc785\\uace0 \\ub2e4\\ub2c8\\uae30 \\uc88b\\uc2b5\\ub2c8\\ub2e4 \\uc801\\uadf9 \\ucd94\\ucc9c\\ud569\\ub2c8\\ub2e4\",\n          \"\\ubc18\\ud314 \\uac1c\\uc5d0 \\ub9cc \\uc6d0\\ub300 \\ubb34\\uc870\\uac74 \\uad6c\\ub9e4\\ud558\\uc154\\uc57c \\ud569\\ub2c8\\ub2e4 \\uc804\\uc801\\uc73c\\ub85c \\ubbff\\uc73c\\uc138\\uc694\"\n        ],\n        \"semantic_type\": \"\",\n        \"description\": \"\"\n      }\n    },\n    {\n      \"column\": \"Topic\",\n      \"properties\": {\n        \"dtype\": \"number\",\n        \"std\": 1,\n        \"min\": 0,\n        \"max\": 6,\n        \"num_unique_values\": 7,\n        \"samples\": [\n          1,\n          2,\n          5\n        ],\n        \"semantic_type\": \"\",\n        \"description\": \"\"\n      }\n    }\n  ]\n}"
            }
          },
          "metadata": {},
          "execution_count": 44
        }
      ]
    },
    {
      "cell_type": "code",
      "source": [
        "df.to_csv('comment_review_topic.csv', index=False, encoding='utf-8-sig')"
      ],
      "metadata": {
        "id": "IX0F8KAkPPw3"
      },
      "execution_count": null,
      "outputs": []
    },
    {
      "cell_type": "code",
      "source": [],
      "metadata": {
        "id": "_q5Gu3ZQXSdV"
      },
      "execution_count": null,
      "outputs": []
    }
  ]
}